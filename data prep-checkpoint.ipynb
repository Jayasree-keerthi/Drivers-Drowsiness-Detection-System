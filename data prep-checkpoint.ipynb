{
 "cells": [
  {
   "cell_type": "code",
   "execution_count": 1,
   "id": "251516aa-00f6-4baa-9d2d-def95e2f771e",
   "metadata": {},
   "outputs": [],
   "source": [
    "import os\n",
    "import shutil\n",
    "import glob\n",
    "from tqdm import tqdm"
   ]
  },
  {
   "cell_type": "code",
   "execution_count": null,
   "id": "e51fe185-e9b8-41f1-bf69-e8f06e55ea27",
   "metadata": {},
   "outputs": [
    {
     "name": "stderr",
     "output_type": "stream",
     "text": [
      "0it [00:00, ?it/s]\n",
      "0it [00:00, ?it/s]\n",
      "0it [00:00, ?it/s]\n",
      "0it [00:00, ?it/s]\n",
      "100%|██████████████████████████████████████████████████████████████████████████████| 3242/3242 [00:51<00:00, 62.90it/s]\n",
      " 52%|████████████████████████████████████████▋                                      | 574/1114 [00:08<00:08, 63.86it/s]"
     ]
    }
   ],
   "source": [
    "Raw_DIR= r'C:\\Users\\dell\\OneDrive\\Desktop\\dataset'\n",
    "for dirpath, dirname, filenames in os.walk(Raw_DIR):\n",
    "    for i in tqdm([f for f in filenames if f.endswith('.png')]):\n",
    "        if i.split('_')[4]=='0':\n",
    "            shutil.copy(src=dirpath+'/'+i, dst=r'C:\\Users\\dell\\OneDrive\\Desktop\\dataset\\Prepared_Data\\close eyes')\n",
    "        \n",
    "        elif i.split('_')[4]=='1':\n",
    "            shutil.copy(src=dirpath+'/'+i, dst=r'C:\\Users\\dell\\OneDrive\\Desktop\\dataset\\Prepared_Data\\open eyes')"
   ]
  },
  {
   "cell_type": "code",
   "execution_count": null,
   "id": "6f53841c-cd40-4e4d-8022-7287fba47dce",
   "metadata": {},
   "outputs": [],
   "source": []
  }
 ],
 "metadata": {
  "kernelspec": {
   "display_name": "Python 3 (ipykernel)",
   "language": "python",
   "name": "python3"
  },
  "language_info": {
   "codemirror_mode": {
    "name": "ipython",
    "version": 3
   },
   "file_extension": ".py",
   "mimetype": "text/x-python",
   "name": "python",
   "nbconvert_exporter": "python",
   "pygments_lexer": "ipython3",
   "version": "3.12.4"
  }
 },
 "nbformat": 4,
 "nbformat_minor": 5
}
